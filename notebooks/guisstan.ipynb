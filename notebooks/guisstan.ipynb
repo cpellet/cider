{
 "cells": [
  {
   "cell_type": "code",
   "id": "initial_id",
   "metadata": {
    "collapsed": true,
    "ExecuteTime": {
     "end_time": "2024-05-04T04:42:56.268451Z",
     "start_time": "2024-05-04T04:42:55.313246Z"
    }
   },
   "source": [
    "import sys\n",
    "import pandas as pd\n",
    "sys.path.insert(0, '..')\n",
    "from cider.featurizer import *\n",
    "from helpers.utils import *\n",
    "\n",
    "config_file = '../configs/config_cyrus.yml'"
   ],
   "outputs": [],
   "execution_count": 1
  },
  {
   "metadata": {
    "ExecuteTime": {
     "end_time": "2024-05-04T04:42:58.573676Z",
     "start_time": "2024-05-04T04:42:56.269525Z"
    }
   },
   "cell_type": "code",
   "source": "datastore = DataStore(config_file)",
   "id": "cf5091c7bc8cdf17",
   "outputs": [
    {
     "name": "stderr",
     "output_type": "stream",
     "text": [
      "24/05/04 12:42:57 WARN Utils: Your hostname, Cyruss-MacBook-Pro.local resolves to a loopback address: 127.0.0.1; using 192.168.0.111 instead (on interface en0)\n",
      "24/05/04 12:42:57 WARN Utils: Set SPARK_LOCAL_IP if you need to bind to another address\n",
      "Setting default log level to \"WARN\".\n",
      "To adjust logging level use sc.setLogLevel(newLevel). For SparkR, use setLogLevel(newLevel).\n",
      "24/05/04 12:42:57 WARN NativeCodeLoader: Unable to load native-hadoop library for your platform... using builtin-java classes where applicable\n"
     ]
    }
   ],
   "execution_count": 2
  },
  {
   "metadata": {
    "ExecuteTime": {
     "end_time": "2024-05-04T04:43:02.821801Z",
     "start_time": "2024-05-04T04:42:58.574564Z"
    }
   },
   "cell_type": "code",
   "source": "featurizer = Featurizer(datastore)",
   "id": "8f85a8aaf6c0196f",
   "outputs": [
    {
     "name": "stdout",
     "output_type": "stream",
     "text": [
      "Loading CDR...\n",
      "Loading recharges...\n",
      "SUCCESS!\n",
      "Loading mobile data...\n",
      "Loading antennas...\n"
     ]
    }
   ],
   "execution_count": 3
  },
  {
   "metadata": {
    "ExecuteTime": {
     "end_time": "2024-05-04T04:43:04.246895Z",
     "start_time": "2024-05-04T04:43:02.822760Z"
    }
   },
   "cell_type": "code",
   "source": [
    "featurizer.recharges_features()\n",
    "featurizer.mobiledata_features()"
   ],
   "id": "df3fb16a4c2e7caa",
   "outputs": [
    {
     "name": "stdout",
     "output_type": "stream",
     "text": [
      "Calculating recharges features...\n",
      "Calculating mobile data features...\n"
     ]
    }
   ],
   "execution_count": 4
  },
  {
   "metadata": {
    "ExecuteTime": {
     "end_time": "2024-05-04T04:43:37.994744Z",
     "start_time": "2024-05-04T04:43:11.170504Z"
    }
   },
   "cell_type": "code",
   "source": "featurizer.cdr_features_spark()",
   "id": "6de10aac38f4693",
   "outputs": [
    {
     "name": "stdout",
     "output_type": "stream",
     "text": [
      "Calculating CDR features...\n"
     ]
    }
   ],
   "execution_count": 5
  },
  {
   "metadata": {},
   "cell_type": "code",
   "outputs": [],
   "execution_count": null,
   "source": "",
   "id": "f749661f82214991"
  }
 ],
 "metadata": {
  "kernelspec": {
   "display_name": "Python 3",
   "language": "python",
   "name": "python3"
  },
  "language_info": {
   "codemirror_mode": {
    "name": "ipython",
    "version": 2
   },
   "file_extension": ".py",
   "mimetype": "text/x-python",
   "name": "python",
   "nbconvert_exporter": "python",
   "pygments_lexer": "ipython2",
   "version": "2.7.6"
  }
 },
 "nbformat": 4,
 "nbformat_minor": 5
}
